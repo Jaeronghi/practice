{
 "cells": [
  {
   "cell_type": "code",
   "execution_count": 34,
   "id": "0de8f9c1-b5de-4106-94c8-c866e542dcd0",
   "metadata": {},
   "outputs": [],
   "source": [
    "hairstyles = [\"bouffant\", \"pixie\", \"dreadlocks\", \"crew\", \"bowl\", \"bob\", \"mohawk\", \"flattop\"]\n",
    "prices = [30, 25, 40, 20, 20, 35, 50, 35]\n",
    "last_week = [2, 3, 5, 8, 4, 4, 6, 2]"
   ]
  },
  {
   "cell_type": "code",
   "execution_count": 35,
   "id": "577d1b21-8aac-4cda-a999-9cebafc71981",
   "metadata": {},
   "outputs": [
    {
     "name": "stdout",
     "output_type": "stream",
     "text": [
      "255\n"
     ]
    }
   ],
   "source": [
    "total_price = 0\n",
    "for i in range(len(prices)):\n",
    "    total_price += prices[i]\n",
    "\n",
    "print(total_price)"
   ]
  },
  {
   "cell_type": "code",
   "execution_count": 36,
   "id": "701c611f-4075-4795-b067-199fb45639a1",
   "metadata": {},
   "outputs": [
    {
     "name": "stdout",
     "output_type": "stream",
     "text": [
      "Average price is \n",
      "31.875\n"
     ]
    }
   ],
   "source": [
    "average_price = total_price/len(prices)\n",
    "print(\"Average price is \")\n",
    "print(average_price)"
   ]
  },
  {
   "cell_type": "code",
   "execution_count": 37,
   "id": "e0973945-a707-4887-b1fa-a681cb6eef17",
   "metadata": {},
   "outputs": [
    {
     "name": "stdout",
     "output_type": "stream",
     "text": [
      "[25, 20, 35, 15, 15, 30, 45, 30]\n"
     ]
    }
   ],
   "source": [
    "new_prices = []\n",
    "for i in range(len(prices)):\n",
    "    new_prices.append(prices[i]-5)\n",
    "print(new_prices)"
   ]
  },
  {
   "cell_type": "code",
   "execution_count": 38,
   "id": "7d228d4b-7942-49bd-a18c-b7f070eb80ff",
   "metadata": {},
   "outputs": [
    {
     "name": "stdout",
     "output_type": "stream",
     "text": [
      "1085\n",
      "Average daily revenue is \n",
      "155.0\n"
     ]
    }
   ],
   "source": [
    "total_revenue = 0\n",
    "for i in range(len(hairstyles)):\n",
    "    total_revenue = total_revenue + (prices[i]*last_week[i])\n",
    "print(total_revenue)\n",
    "\n",
    "average_daily_revenue = total_revenue/7\n",
    "print(\"Average daily revenue is \")\n",
    "print(average_daily_revenue)"
   ]
  },
  {
   "cell_type": "code",
   "execution_count": 39,
   "id": "a7b2991c-386d-4a11-974a-c8a2bae3aebc",
   "metadata": {},
   "outputs": [
    {
     "name": "stdout",
     "output_type": "stream",
     "text": [
      "['bouffant', 'pixie', 'crew', 'bowl']\n"
     ]
    }
   ],
   "source": [
    "cuts_under_30 = []\n",
    "for i in range(len(new_prices)):\n",
    "    if (new_prices[i] < 30):\n",
    "        cuts_under_30.append(hairstyles[i])\n",
    "\n",
    "print(cuts_under_30)"
   ]
  },
  {
   "cell_type": "code",
   "execution_count": null,
   "id": "cf7f5c23-c805-4f55-952e-aa5fbf5eaf4c",
   "metadata": {},
   "outputs": [],
   "source": []
  }
 ],
 "metadata": {
  "kernelspec": {
   "display_name": "Python 3 (ipykernel)",
   "language": "python",
   "name": "python3"
  },
  "language_info": {
   "codemirror_mode": {
    "name": "ipython",
    "version": 3
   },
   "file_extension": ".py",
   "mimetype": "text/x-python",
   "name": "python",
   "nbconvert_exporter": "python",
   "pygments_lexer": "ipython3",
   "version": "3.9.12"
  }
 },
 "nbformat": 4,
 "nbformat_minor": 5
}
