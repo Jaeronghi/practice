{
 "cells": [
  {
   "cell_type": "code",
   "execution_count": 13,
   "id": "35c7e18c-fad7-47ba-a81f-c66f9839c1cb",
   "metadata": {},
   "outputs": [
    {
     "name": "stdout",
     "output_type": "stream",
     "text": [
      "[['physics', 98], ['calculus', 97], ['poetry', 85], ['history', 88]]\n"
     ]
    }
   ],
   "source": [
    "subject = ['physics', 'calculus', 'poetry', 'history']\n",
    "grades = [98, 97, 85, 88]\n",
    "gradebook = []\n",
    "\n",
    "for i in range(4) :\n",
    "    gradebook += [[subject[i], grades[i]]]\n",
    "\n",
    "print(gradebook)"
   ]
  },
  {
   "cell_type": "code",
   "execution_count": 14,
   "id": "a3a12dde-d10f-465a-a0d7-1729ce83eecf",
   "metadata": {},
   "outputs": [],
   "source": [
    "gradebook.append(['computer science', 100])"
   ]
  },
  {
   "cell_type": "code",
   "execution_count": 15,
   "id": "38436ba9-2f1f-4bea-8372-1e45dd8807db",
   "metadata": {},
   "outputs": [
    {
     "name": "stdout",
     "output_type": "stream",
     "text": [
      "[['physics', 98], ['calculus', 97], ['poetry', 85], ['history', 88], ['computer science', 100], ['visual arts', 93]]\n"
     ]
    }
   ],
   "source": [
    "gradebook.append(['visual arts', 93])\n",
    "print(gradebook)"
   ]
  },
  {
   "cell_type": "code",
   "execution_count": 16,
   "id": "0f30c05b-aecc-4c42-b41a-47ed0d203a89",
   "metadata": {},
   "outputs": [
    {
     "name": "stdout",
     "output_type": "stream",
     "text": [
      "[['physics', 98], ['calculus', 97], ['poetry', 85], ['history', 88], ['computer science', 100], ['visual arts', 98]]\n"
     ]
    }
   ],
   "source": [
    "gradebook[5][1] = gradebook[5][1] + 5\n",
    "print(gradebook)"
   ]
  },
  {
   "cell_type": "code",
   "execution_count": 17,
   "id": "f3fa263f-bdcc-4a76-9281-c14f02361393",
   "metadata": {},
   "outputs": [
    {
     "data": {
      "text/plain": [
       "[['physics', 98],\n",
       " ['calculus', 97],\n",
       " ['poetry', 'Pass'],\n",
       " ['history', 88],\n",
       " ['computer science', 100],\n",
       " ['visual arts', 98]]"
      ]
     },
     "execution_count": 17,
     "metadata": {},
     "output_type": "execute_result"
    }
   ],
   "source": [
    "gradebook[2][1] = 'Pass'\n",
    "gradebook"
   ]
  },
  {
   "cell_type": "code",
   "execution_count": 18,
   "id": "75472863-2240-4145-a98c-38e62698253d",
   "metadata": {},
   "outputs": [],
   "source": [
    "last_semester_gradebook = [[\"politics\", 80], [\"latin\", 96], [\"dance\", 97], [\"architecture\", 65]]\n",
    "full_gradebook = last_semester_gradebook + gradebook"
   ]
  },
  {
   "cell_type": "code",
   "execution_count": 19,
   "id": "1f76ce88-3aab-468e-8317-33a95e133919",
   "metadata": {},
   "outputs": [
    {
     "name": "stdout",
     "output_type": "stream",
     "text": [
      "[['politics', 80], ['latin', 96], ['dance', 97], ['architecture', 65], ['physics', 98], ['calculus', 97], ['poetry', 'Pass'], ['history', 88], ['computer science', 100], ['visual arts', 98]]\n"
     ]
    }
   ],
   "source": [
    "print(full_gradebook)"
   ]
  },
  {
   "cell_type": "code",
   "execution_count": null,
   "id": "af46daab-cb57-48b9-987f-f519ba971f83",
   "metadata": {},
   "outputs": [],
   "source": []
  }
 ],
 "metadata": {
  "kernelspec": {
   "display_name": "Python 3 (ipykernel)",
   "language": "python",
   "name": "python3"
  },
  "language_info": {
   "codemirror_mode": {
    "name": "ipython",
    "version": 3
   },
   "file_extension": ".py",
   "mimetype": "text/x-python",
   "name": "python",
   "nbconvert_exporter": "python",
   "pygments_lexer": "ipython3",
   "version": "3.9.12"
  }
 },
 "nbformat": 4,
 "nbformat_minor": 5
}
